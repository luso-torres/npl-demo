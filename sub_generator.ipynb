{
 "cells": [
  {
   "cell_type": "code",
   "execution_count": null,
   "id": "7f2e5312-d060-4ad2-a9f1-b8710aba43bf",
   "metadata": {},
   "outputs": [],
   "source": [
    "from transformers import pipeline\n",
    "\n",
    "lyrics = pysrt.open(\"lyrics.srt\")\n",
    "\n",
    "for i in lyrics:\n",
    "    pt_text = translator(i.text)[0]['translation_text']\n",
    "    i.text = pt_text\n",
    "\n",
    "\n",
    "lyrics.save(\"lyrics_translated.srt\")"
   ]
  }
 ],
 "metadata": {
  "kernelspec": {
   "display_name": "Python 3 (ipykernel)",
   "language": "python",
   "name": "python3"
  },
  "language_info": {
   "codemirror_mode": {
    "name": "ipython",
    "version": 3
   },
   "file_extension": ".py",
   "mimetype": "text/x-python",
   "name": "python",
   "nbconvert_exporter": "python",
   "pygments_lexer": "ipython3",
   "version": "3.11.6"
  }
 },
 "nbformat": 4,
 "nbformat_minor": 5
}
