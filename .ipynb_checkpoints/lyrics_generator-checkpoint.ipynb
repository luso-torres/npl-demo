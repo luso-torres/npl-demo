{
 "cells": [
  {
   "cell_type": "code",
   "execution_count": null,
   "id": "ab7156eb-e31c-4a73-b641-cc8ccc4b875c",
   "metadata": {},
   "outputs": [],
   "source": [
    "from pydub import AudioSegment\n",
    "from pydub.silence import detect_nonsilent\n",
    "\n",
    "# Load the audio file\n",
    "audio = AudioSegment.from_file(\"song.mp3\")\n",
    "\n",
    "# Detect non-silent segments\n",
    "nonsilent_segments = detect_nonsilent(audio, min_silence_len=500, silence_thresh=-40)\n",
    "\n",
    "# Example lyrics\n",
    "lyrics = [\n",
    "    \"First line of the lyrics.\",\n",
    "    \"Second line of the lyrics.\",\n",
    "    \"Third line of the lyrics.\"\n",
    "]\n",
    "\n",
    "# Generate timestamps\n",
    "timestamps = []\n",
    "for i, segment in enumerate(nonsilent_segments):\n",
    "    start_time = segment[0] / 1000  # Convert to seconds\n",
    "    end_time = segment[1] / 1000\n",
    "    timestamps.append((start_time, end_time, lyrics[i]))\n",
    "\n",
    "# Save as .srt file\n",
    "with open(\"lyrics.srt\", \"w\") as file:\n",
    "    for i, (start, end, line) in enumerate(timestamps):\n",
    "        file.write(f\"{i+1}\\n\")\n",
    "        file.write(f\"{start:.3f} --> {end:.3f}\\n\")\n",
    "        file.write(f\"{line}\\n\\n\")\n"
   ]
  }
 ],
 "metadata": {
  "kernelspec": {
   "display_name": "Python 3 (ipykernel)",
   "language": "python",
   "name": "python3"
  },
  "language_info": {
   "codemirror_mode": {
    "name": "ipython",
    "version": 3
   },
   "file_extension": ".py",
   "mimetype": "text/x-python",
   "name": "python",
   "nbconvert_exporter": "python",
   "pygments_lexer": "ipython3",
   "version": "3.11.6"
  }
 },
 "nbformat": 4,
 "nbformat_minor": 5
}
